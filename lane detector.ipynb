{
 "cells": [
  {
   "cell_type": "code",
   "execution_count": 5,
   "metadata": {},
   "outputs": [],
   "source": [
    "import cv2\n",
    "import numpy as np\n",
    "\n",
    "img = cv2.imread(\"lane.jpeg\")\n",
    "\n",
    "h=img.shape[0]\n",
    "b=img.shape[1]\n",
    "\n",
    "roi=[(0,h),(b/2,(h/2)+50),(b,h)]\n",
    "\n",
    "def region_of_interest(img,vertices):                              \n",
    "    mask=np.zeros_like(img)\n",
    "    cv2.fillPoly(mask,vertices,(255,)*3)\n",
    "    masked_image=cv2.bitwise_and(img,mask)\n",
    "    return masked_image\n",
    "\n",
    "grey=cv2.cvtColor(img,cv2.COLOR_BGR2GRAY)                     \n",
    "canny_image=cv2.Canny(grey,50,200)                                  \n",
    "cropped_image=region_of_interest(canny_image,np.array([roi],np.int32))\n",
    "lines=cv2.HoughLinesP(cropped_image,6,np.pi/180,100,lines=np.array([]),minLineLength=30,maxLineGap=670)\n",
    "\n",
    "for line in lines:\n",
    "    for x1,y1,x2,y2 in line:\n",
    "        cv2.line(img,(x1,y1),(x2,y2),(0,0,255),5)\n",
    "\n",
    "cv2.imshow(\"lane_detection\",img)\n",
    "cv2.waitKey(0)\n",
    "cv2.destroyAllWindows()\n"
   ]
  },
  {
   "cell_type": "code",
   "execution_count": null,
   "metadata": {},
   "outputs": [],
   "source": []
  }
 ],
 "metadata": {
  "kernelspec": {
   "display_name": "Python 3",
   "language": "python",
   "name": "python3"
  },
  "language_info": {
   "codemirror_mode": {
    "name": "ipython",
    "version": 3
   },
   "file_extension": ".py",
   "mimetype": "text/x-python",
   "name": "python",
   "nbconvert_exporter": "python",
   "pygments_lexer": "ipython3",
   "version": "3.7.4"
  }
 },
 "nbformat": 4,
 "nbformat_minor": 2
}
