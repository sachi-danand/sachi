{
 "cells": [
  {
   "cell_type": "code",
   "execution_count": null,
   "metadata": {},
   "outputs": [],
   "source": [
    "#section B.3.2.a\n",
    "import cv2\n",
    "import numpy as np\n",
    "\n",
    "img=cv2.imread(\"green.png\")       #by changing the image read we can find the diff colors of traffic light\n",
    "    \n",
    "rlb=np.array([0, 0,200])\n",
    "rub=np.array([50, 50, 255])\n",
    "\n",
    "glb=np.array([0,200,0])\n",
    "gub=np.array([50, 255,50])\n",
    "\n",
    "ylb=np.array([0, 210, 210])\n",
    "yub=np.array([40, 255, 255])\n",
    "\n",
    "def color_finder(img):    \n",
    "    red_mask= cv2.inRange(img,rlb,rub)                            #masking red color\n",
    "    green_mask= cv2.inRange(img,glb,gub)                          #masking green color\n",
    "    yellow_mask= cv2.inRange(img,ylb,yub)\n",
    "    \n",
    "    if np.sum(red_mask) != 0:\n",
    "        print(\"red :stop\")\n",
    "    if np.sum(green_mask) != 0:\n",
    "        print(\"green : go\")\n",
    "    if np.sum(yellow_mask) != 0:\n",
    "        print(\"yellow :get ready\")\n",
    "        \n",
    "color_finder(img)      \n",
    "cv2.destroyAllWindows()"
   ]
  },
  {
   "cell_type": "code",
   "execution_count": null,
   "metadata": {},
   "outputs": [],
   "source": [
    "#2.b we should create a cascade classifer using the data set given.\n",
    "#we should separate the data set as positive and negative .\n",
    "#create a positive vector file by sticting all positive image and train the classifier.\n",
    "#then we can easily detect the traffic light by haarcascade classifier method."
   ]
  }
 ],
 "metadata": {
  "kernelspec": {
   "display_name": "Python 3",
   "language": "python",
   "name": "python3"
  },
  "language_info": {
   "codemirror_mode": {
    "name": "ipython",
    "version": 3
   },
   "file_extension": ".py",
   "mimetype": "text/x-python",
   "name": "python",
   "nbconvert_exporter": "python",
   "pygments_lexer": "ipython3",
   "version": "3.7.4"
  }
 },
 "nbformat": 4,
 "nbformat_minor": 2
}
