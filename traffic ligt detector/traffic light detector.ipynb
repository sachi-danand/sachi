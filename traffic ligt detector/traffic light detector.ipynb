{
 "cells": [
  {
   "cell_type": "code",
   "execution_count": 1,
   "metadata": {
    "scrolled": true
   },
   "outputs": [],
   "source": [
    "\n",
    "import cv2\n",
    "cascade= cv2.CascadeClassifier(\"TrafficLight.xml\")\n",
    "img=cv2.imread(\"543664.png\")\n",
    "grey=cv2.cvtColor(img,cv2.COLOR_BGR2GRAY)\n",
    "light=cascade.detectMultiScale(grey,1.02,4)\n",
    "for x,y,w,h in light:\n",
    "    cv2.rectangle(img,(x,y),(x+w,y+h),(255,0,0),3)\n",
    "cv2.imshow(\"image\",img)\n",
    "cv2.waitKey(0)\n",
    "cv2.destroyAllWindows()\n"
   ]
  },
  {
   "cell_type": "code",
   "execution_count": null,
   "metadata": {},
   "outputs": [],
   "source": []
  }
 ],
 "metadata": {
  "kernelspec": {
   "display_name": "Python 3",
   "language": "python",
   "name": "python3"
  },
  "language_info": {
   "codemirror_mode": {
    "name": "ipython",
    "version": 3
   },
   "file_extension": ".py",
   "mimetype": "text/x-python",
   "name": "python",
   "nbconvert_exporter": "python",
   "pygments_lexer": "ipython3",
   "version": "3.7.4"
  }
 },
 "nbformat": 4,
 "nbformat_minor": 2
}
